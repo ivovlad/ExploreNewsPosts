{
 "cells": [
  {
   "cell_type": "markdown",
   "metadata": {
    "collapsed": true
   },
   "source": [
    "## Playing with Data from Hacker News"
   ]
  },
  {
   "cell_type": "markdown",
   "metadata": {},
   "source": [
    "### Goals"
   ]
  },
  {
   "cell_type": "markdown",
   "metadata": {},
   "source": [
    "* Determine whether titles starting with **`Ask HN`** or **`Show HN`** receive more comments on average?\n",
    "* Examine whether posts created at a certain time receive more comments on average?"
   ]
  },
  {
   "cell_type": "markdown",
   "metadata": {},
   "source": [
    "### Description of the Data Set"
   ]
  },
  {
   "cell_type": "markdown",
   "metadata": {},
   "source": [
    "* [0] **id:** The unique identifier from Hacker News for the post;\n",
    "* [1] **title:** The title of the post;\n",
    "* [2] **url:** The URL that the posts links to, if it the post has a URL;\n",
    "* [3] **num_points:** The number of points the post acquired, calculated as the total number of upvotes minus the total number of downvotes;\n",
    "* [4] **num_comments:** The # of comments that were made on the post;\n",
    "* [5] **author:** The username of the person who submitted the post;\n",
    "* [6] **created_at:** The date and time at which the post was submitted;"
   ]
  },
  {
   "cell_type": "code",
   "execution_count": 1,
   "metadata": {
    "collapsed": false,
    "scrolled": true
   },
   "outputs": [
    {
     "name": "stdout",
     "output_type": "stream",
     "text": [
      "20101\n",
      "['id', 'title', 'url', 'num_points', 'num_comments', 'author', 'created_at'] \n",
      "\n",
      "['12224879', 'Interactive Dynamic Video', 'http://www.interactivedynamicvideo.com/', '386', '52', 'ne0phyte', '8/4/2016 11:52'] \n",
      "\n",
      "['10975351', 'How to Use Open Source and Shut the Fuck Up at the Same Time', 'http://hueniverse.com/2016/01/26/how-to-use-open-source-and-shut-the-fuck-up-at-the-same-time/', '39', '10', 'josep2', '1/26/2016 19:30'] \n",
      "\n",
      "['11964716', \"Florida DJs May Face Felony for April Fools' Water Joke\", 'http://www.thewire.com/entertainment/2013/04/florida-djs-april-fools-water-joke/63798/', '2', '1', 'vezycash', '6/23/2016 22:20'] \n",
      "\n",
      "['11919867', 'Technology ventures: From Idea to Enterprise', 'https://www.amazon.com/Technology-Ventures-Enterprise-Thomas-Byers/dp/0073523429', '3', '1', 'hswarna', '6/17/2016 0:01'] \n",
      "\n"
     ]
    }
   ],
   "source": [
    "from csv import reader\n",
    "f = open('hacker_news.csv')\n",
    "p = reader(f)\n",
    "hn = list(p)\n",
    "print(len(hn))\n",
    "for row in hn[:5]:\n",
    "    print(row, \"\\n\")"
   ]
  },
  {
   "cell_type": "markdown",
   "metadata": {},
   "source": [
    ">Removing the header row."
   ]
  },
  {
   "cell_type": "code",
   "execution_count": 2,
   "metadata": {
    "collapsed": false,
    "scrolled": false
   },
   "outputs": [
    {
     "name": "stdout",
     "output_type": "stream",
     "text": [
      "['id', 'title', 'url', 'num_points', 'num_comments', 'author', 'created_at'] \n",
      "\n",
      "['12224879', 'Interactive Dynamic Video', 'http://www.interactivedynamicvideo.com/', '386', '52', 'ne0phyte', '8/4/2016 11:52'] \n",
      "\n",
      "['10975351', 'How to Use Open Source and Shut the Fuck Up at the Same Time', 'http://hueniverse.com/2016/01/26/how-to-use-open-source-and-shut-the-fuck-up-at-the-same-time/', '39', '10', 'josep2', '1/26/2016 19:30'] \n",
      "\n",
      "['11964716', \"Florida DJs May Face Felony for April Fools' Water Joke\", 'http://www.thewire.com/entertainment/2013/04/florida-djs-april-fools-water-joke/63798/', '2', '1', 'vezycash', '6/23/2016 22:20'] \n",
      "\n",
      "['11919867', 'Technology ventures: From Idea to Enterprise', 'https://www.amazon.com/Technology-Ventures-Enterprise-Thomas-Byers/dp/0073523429', '3', '1', 'hswarna', '6/17/2016 0:01'] \n",
      "\n",
      "['10301696', 'Note by Note: The Making of Steinway L1037 (2007)', 'http://www.nytimes.com/2007/11/07/movies/07stein.html?_r=0', '8', '2', 'walterbell', '9/30/2015 4:12'] \n",
      "\n"
     ]
    }
   ],
   "source": [
    "headers = hn[0]\n",
    "del hn[0]\n",
    "print(headers, '\\n')\n",
    "for row in hn[:5]:\n",
    "    print(row, '\\n')"
   ]
  },
  {
   "cell_type": "markdown",
   "metadata": {},
   "source": [
    "### Extracting \"Ask HN\" and \"Show HN\" Posts"
   ]
  },
  {
   "cell_type": "code",
   "execution_count": 3,
   "metadata": {
    "collapsed": false
   },
   "outputs": [
    {
     "name": "stdout",
     "output_type": "stream",
     "text": [
      "20100\n"
     ]
    }
   ],
   "source": [
    "ask_posts = []\n",
    "show_posts = []\n",
    "other_posts = []\n",
    "\n",
    "for row in hn:\n",
    "    title = row[1].lower()\n",
    "    if title.startswith('ask hn'):\n",
    "        ask_posts.append(row)\n",
    "    elif title.startswith('show hn'):\n",
    "        show_posts.append(row)\n",
    "    else:\n",
    "        other_posts.append(row)\n",
    "print(len(ask_posts)+len(show_posts)+ len(other_posts))"
   ]
  },
  {
   "cell_type": "markdown",
   "metadata": {},
   "source": [
    "### Calculating the Average Number of Comments for Ask HN and Show HN Posts"
   ]
  },
  {
   "cell_type": "code",
   "execution_count": 4,
   "metadata": {
    "collapsed": false
   },
   "outputs": [
    {
     "name": "stdout",
     "output_type": "stream",
     "text": [
      "Total Ask Comments = : 24483\n",
      "Total Show comments = : 11988\n",
      "Average Ask Comments = : 14.038417431192661\n",
      "Average Show Comments = : 10.31669535283993\n"
     ]
    }
   ],
   "source": [
    "total_ask_comments = 0\n",
    "for i in ask_posts:\n",
    "    total_ask_comments += int(i[4])\n",
    "avg_ask_comments = total_ask_comments/len(ask_posts)\n",
    "total_show_comments = 0\n",
    "for i in show_posts:\n",
    "    total_show_comments += int(i[4])\n",
    "avg_show_comments = total_show_comments/len(show_posts)\n",
    "print('Total Ask Comments = :',total_ask_comments)\n",
    "print('Total Show comments = :',  total_show_comments)\n",
    "print('Average Ask Comments = :',avg_ask_comments) \n",
    "print('Average Show Comments = :',avg_show_comments)"
   ]
  },
  {
   "cell_type": "markdown",
   "metadata": {},
   "source": [
    ">The results above show that comments for 'Ask' posts are on average 40% more than comments for 'Show' posts. "
   ]
  },
  {
   "cell_type": "markdown",
   "metadata": {},
   "source": [
    "### Finding the Amount of Ask Posts and Comments by Hour Created"
   ]
  },
  {
   "cell_type": "code",
   "execution_count": 5,
   "metadata": {
    "collapsed": false,
    "scrolled": true
   },
   "outputs": [
    {
     "name": "stdout",
     "output_type": "stream",
     "text": [
      "Time: 00 Posts:  55 Comments: 447\n",
      "Time: 01 Posts:  60 Comments: 683\n",
      "Time: 02 Posts:  58 Comments: 1381\n",
      "Time: 03 Posts:  54 Comments: 421\n",
      "Time: 04 Posts:  47 Comments: 337\n",
      "Time: 05 Posts:  46 Comments: 464\n",
      "Time: 06 Posts:  44 Comments: 397\n",
      "Time: 07 Posts:  34 Comments: 267\n",
      "Time: 08 Posts:  48 Comments: 492\n",
      "Time: 09 Posts:  45 Comments: 251\n",
      "Time: 10 Posts:  59 Comments: 793\n",
      "Time: 11 Posts:  58 Comments: 641\n",
      "Time: 12 Posts:  73 Comments: 687\n",
      "Time: 13 Posts:  85 Comments: 1253\n",
      "Time: 14 Posts:  107 Comments: 1416\n",
      "Time: 15 Posts:  116 Comments: 4477\n",
      "Time: 16 Posts:  108 Comments: 1814\n",
      "Time: 17 Posts:  100 Comments: 1146\n",
      "Time: 18 Posts:  109 Comments: 1439\n",
      "Time: 19 Posts:  110 Comments: 1188\n",
      "Time: 20 Posts:  80 Comments: 1722\n",
      "Time: 21 Posts:  109 Comments: 1745\n",
      "Time: 22 Posts:  71 Comments: 479\n",
      "Time: 23 Posts:  68 Comments: 543\n"
     ]
    }
   ],
   "source": [
    "import datetime as dt\n",
    "hour_freq = {} #frequency distrib of posts per hour\n",
    "comments_freq = {} #frequency distrib of comments per hour\n",
    "for row in ask_posts[:]:\n",
    "    dt_obj = dt.datetime.strptime(row[6],'%m/%d/%Y %H:%M')\n",
    "    #time_obj = dt_obj.time()\n",
    "    hour_obj = dt_obj.strftime('%H') #time_obj.hour\n",
    "    if hour_obj in hour_freq:\n",
    "        hour_freq[hour_obj] +=1\n",
    "        comments_freq[hour_obj] +=int(row[4])\n",
    "    else: \n",
    "        hour_freq[hour_obj] =1\n",
    "        comments_freq[hour_obj] =int(row[4])\n",
    "for i in sorted(hour_freq.items()):\n",
    "    print('Time:',i[0], 'Posts: ', i[1], 'Comments:',comments_freq[i[0]])"
   ]
  },
  {
   "cell_type": "markdown",
   "metadata": {},
   "source": [
    "### Calculating the Average Number of Comments for Ask HN Posts by Hour"
   ]
  },
  {
   "cell_type": "code",
   "execution_count": 6,
   "metadata": {
    "collapsed": false,
    "scrolled": true
   },
   "outputs": [
    {
     "name": "stdout",
     "output_type": "stream",
     "text": [
      "('00', 8)\n",
      "('01', 11)\n",
      "('02', 24)\n",
      "('03', 8)\n",
      "('04', 7)\n",
      "('05', 10)\n",
      "('06', 9)\n",
      "('07', 8)\n",
      "('08', 10)\n",
      "('09', 6)\n",
      "('10', 13)\n",
      "('11', 11)\n",
      "('12', 9)\n",
      "('13', 15)\n",
      "('14', 13)\n",
      "('15', 39)\n",
      "('16', 17)\n",
      "('17', 11)\n",
      "('18', 13)\n",
      "('19', 11)\n",
      "('20', 22)\n",
      "('21', 16)\n",
      "('22', 7)\n",
      "('23', 8)\n"
     ]
    }
   ],
   "source": [
    "avg_comments = {}\n",
    "for i in hour_freq:\n",
    "    if i in avg_comments:\n",
    "        print('something wrong!!!')\n",
    "    else:\n",
    "        avg_comments[i] = round(comments_freq[i]/hour_freq[i])\n",
    "for i in sorted(avg_comments.items()):\n",
    "    print(i)\n",
    "    "
   ]
  },
  {
   "cell_type": "markdown",
   "metadata": {},
   "source": [
    ">The same result but using a list of lists instead of a dictionary to store the average number of commebts per hour:"
   ]
  },
  {
   "cell_type": "code",
   "execution_count": 7,
   "metadata": {
    "collapsed": false
   },
   "outputs": [
    {
     "name": "stdout",
     "output_type": "stream",
     "text": [
      "['00', 8.127272727272727]\n",
      "['01', 11.383333333333333]\n",
      "['02', 23.810344827586206]\n",
      "['03', 7.796296296296297]\n",
      "['04', 7.170212765957447]\n",
      "['05', 10.08695652173913]\n",
      "['06', 9.022727272727273]\n",
      "['07', 7.852941176470588]\n",
      "['08', 10.25]\n",
      "['09', 5.5777777777777775]\n",
      "['10', 13.440677966101696]\n",
      "['11', 11.051724137931034]\n",
      "['12', 9.41095890410959]\n",
      "['13', 14.741176470588234]\n",
      "['14', 13.233644859813085]\n",
      "['15', 38.5948275862069]\n",
      "['16', 16.796296296296298]\n",
      "['17', 11.46]\n",
      "['18', 13.20183486238532]\n",
      "['19', 10.8]\n",
      "['20', 21.525]\n",
      "['21', 16.009174311926607]\n",
      "['22', 6.746478873239437]\n",
      "['23', 7.985294117647059]\n"
     ]
    }
   ],
   "source": [
    "avg_com = []\n",
    "for i in hour_freq:\n",
    "    avg_c = comments_freq[i]/hour_freq[i]\n",
    "    avg_com.append([i, avg_c])\n",
    "for i in sorted(avg_com):\n",
    "    print(i)"
   ]
  },
  {
   "cell_type": "markdown",
   "metadata": {},
   "source": [
    "### Sorting and Printing Values from a List of Lists"
   ]
  },
  {
   "cell_type": "code",
   "execution_count": 8,
   "metadata": {
    "collapsed": false
   },
   "outputs": [
    {
     "name": "stdout",
     "output_type": "stream",
     "text": [
      "15:00 : 38.59 average comments per post\n",
      "02:00 : 23.81 average comments per post\n",
      "20:00 : 21.52 average comments per post\n",
      "16:00 : 16.80 average comments per post\n",
      "21:00 : 16.01 average comments per post\n",
      "13:00 : 14.74 average comments per post\n",
      "10:00 : 13.44 average comments per post\n",
      "14:00 : 13.23 average comments per post\n",
      "18:00 : 13.20 average comments per post\n",
      "17:00 : 11.46 average comments per post\n",
      "01:00 : 11.38 average comments per post\n",
      "11:00 : 11.05 average comments per post\n",
      "19:00 : 10.80 average comments per post\n",
      "08:00 : 10.25 average comments per post\n",
      "05:00 : 10.09 average comments per post\n",
      "12:00 : 9.41 average comments per post\n",
      "06:00 : 9.02 average comments per post\n",
      "00:00 : 8.13 average comments per post\n",
      "23:00 : 7.99 average comments per post\n",
      "07:00 : 7.85 average comments per post\n",
      "03:00 : 7.80 average comments per post\n",
      "04:00 : 7.17 average comments per post\n",
      "22:00 : 6.75 average comments per post\n",
      "09:00 : 5.58 average comments per post\n"
     ]
    }
   ],
   "source": [
    "avg_com_swapped = []\n",
    "for i in avg_com:\n",
    "    swap_list = [i[1], i[0]]\n",
    "    avg_com_swapped.append(swap_list)\n",
    "for i in sorted(avg_com_swapped[:], reverse = True):\n",
    "    hour = dt.datetime.strptime(i[1], '%H')\n",
    "    str_hour = hour.strftime('%H:%M %Z')\n",
    "                                \n",
    "    av_c = round(i[0])\n",
    "    print('{1}: {0:.2f} average comments per post'.format(i[0], str_hour))"
   ]
  },
  {
   "cell_type": "markdown",
   "metadata": {
    "slideshow": {
     "slide_type": "slide"
    }
   },
   "source": [
    ">Results show that if you live on the East coast of the US your best chance of generating high numbers of comments for your posts on Hacker News is to publish in the 15th hour. On average the number of posts generated during this hour exceeds by far all other time periods.\n",
    "\n",
    ">Does this mean that towards the end of the working day people look for distractions to pass the time until 5pm?\n",
    "\n",
    ">Or maybe this is the time when people in Europe and Asia also become active so the numbers jump?\n",
    "\n",
    ">Given the available data we can only speculate..."
   ]
  },
  {
   "cell_type": "markdown",
   "metadata": {},
   "source": [
    "### Playing a Little Bit More:\n",
    "\n",
    "#### Determine if show or ask posts receive more points on average."
   ]
  },
  {
   "cell_type": "code",
   "execution_count": 9,
   "metadata": {
    "collapsed": false
   },
   "outputs": [
    {
     "name": "stdout",
     "output_type": "stream",
     "text": [
      "15.061926605504587\n"
     ]
    }
   ],
   "source": [
    "# checking ask_posts avg number of points per post\n",
    "ask_total_points = 0\n",
    "for i in ask_posts:\n",
    "    ask_total_points += int(i[3])\n",
    "    \n",
    "ask_avg_points = ask_total_points/len(ask_posts)\n",
    "print(ask_avg_points)"
   ]
  },
  {
   "cell_type": "code",
   "execution_count": 10,
   "metadata": {
    "collapsed": false
   },
   "outputs": [
    {
     "name": "stdout",
     "output_type": "stream",
     "text": [
      "27.555077452667813\n"
     ]
    }
   ],
   "source": [
    "# checking show_posts avg number of points per post\n",
    "show_total_points = 0\n",
    "for i in show_posts:\n",
    "    show_total_points += int(i[3])\n",
    "    \n",
    "show_avg_points = show_total_points/len(show_posts)\n",
    "print(show_avg_points)"
   ]
  },
  {
   "cell_type": "markdown",
   "metadata": {},
   "source": [
    ">On average the Show posts are substantialy more than Ask posts."
   ]
  },
  {
   "cell_type": "markdown",
   "metadata": {},
   "source": [
    "#### Determine if posts created at a certain time are more likely to receive more points. \n",
    "#### Compare your results to the average number of comments and points other posts receive.\n"
   ]
  },
  {
   "cell_type": "code",
   "execution_count": 16,
   "metadata": {
    "collapsed": false
   },
   "outputs": [],
   "source": [
    "# function returning frequency distributions per hour of \n",
    "# number of posts and total points\n",
    "def freq(d_set, col_ind):\n",
    "    dic_num = {}\n",
    "    dic_sum = {}\n",
    "    for row in d_set:\n",
    "        date_time = dt.datetime.strptime(row[6],'%m/%d/%Y %H:%M')\n",
    "        hour = date_time.strftime('%H')\n",
    "        if hour in dic_num:\n",
    "            dic_num[hour] += 1\n",
    "        else:\n",
    "            dic_num[hour] = 1\n",
    "        \n",
    "        if hour in dic_sum:\n",
    "            dic_sum[hour] += int(row[col_ind])\n",
    "        else:\n",
    "            dic_sum[hour] = int(row[col_ind])\n",
    "    return (dic_num, dic_sum)"
   ]
  },
  {
   "cell_type": "code",
   "execution_count": 22,
   "metadata": {
    "collapsed": false
   },
   "outputs": [],
   "source": [
    "ask = freq(ask_posts, 3)\n",
    "show = freq(show_posts, 3)\n",
    "other = freq(other_posts, 3)\n"
   ]
  },
  {
   "cell_type": "code",
   "execution_count": 23,
   "metadata": {
    "collapsed": true
   },
   "outputs": [],
   "source": [
    "#function to find the frequency distribution for average points\n",
    "def avg_points(tup):\n",
    "    freq_num = tup[0]\n",
    "    freq_sum = tup[1]\n",
    "    freq_avg = {}\n",
    "    for hour in freq_sum:\n",
    "        freq_avg[hour] = freq_sum[hour]/freq_num[hour]\n",
    "    return freq_avg"
   ]
  },
  {
   "cell_type": "code",
   "execution_count": 33,
   "metadata": {
    "collapsed": false
   },
   "outputs": [],
   "source": [
    "ask_avg_points = avg_points(ask)\n",
    "show_avg_points = avg_points(show)\n",
    "other_avg_points = avg_points(other)\n",
    "#print(sorted(other_avg_points.items()))"
   ]
  },
  {
   "cell_type": "code",
   "execution_count": 37,
   "metadata": {
    "collapsed": true
   },
   "outputs": [],
   "source": [
    "#function to sort the avg nums in descending order\n",
    "def sort_des(dic):\n",
    "    list_swap = []\n",
    "    for i in dic:\n",
    "        list_swap.append([dic[i], i])\n",
    "    return sorted(list_swap, reverse = True)"
   ]
  },
  {
   "cell_type": "code",
   "execution_count": 42,
   "metadata": {
    "collapsed": false
   },
   "outputs": [],
   "source": [
    "ask_sorted = sort_des(ask_avg_points)\n",
    "show_sorted = sort_des(show_avg_points)\n",
    "other_sorted = sort_des(other_avg_points)\n",
    "#print(other_sorted)"
   ]
  },
  {
   "cell_type": "code",
   "execution_count": 80,
   "metadata": {
    "collapsed": true
   },
   "outputs": [],
   "source": [
    "# function to print the sorted list of lists in a \n",
    "# more legible format\n",
    "def print_res(li_of_lists, n):\n",
    "    for i in li_of_lists[:n]:\n",
    "        st = '{0:.2f} number of points on avg for the {1} o\\'clock period'.format(i[0], i[1])\n",
    "        print(st)"
   ]
  },
  {
   "cell_type": "markdown",
   "metadata": {},
   "source": [
    "##### Top 5 average points per hour for Ask posts"
   ]
  },
  {
   "cell_type": "code",
   "execution_count": 84,
   "metadata": {
    "collapsed": false
   },
   "outputs": [
    {
     "name": "stdout",
     "output_type": "stream",
     "text": [
      "29.99 number of points on avg for the 15 o'clock period\n",
      "24.26 number of points on avg for the 13 o'clock period\n",
      "23.35 number of points on avg for the 16 o'clock period\n",
      "19.41 number of points on avg for the 17 o'clock period\n",
      "18.68 number of points on avg for the 10 o'clock period\n",
      "15.97 number of points on avg for the 18 o'clock period\n",
      "15.79 number of points on avg for the 21 o'clock period\n",
      "14.39 number of points on avg for the 20 o'clock period\n",
      "14.22 number of points on avg for the 11 o'clock period\n",
      "13.75 number of points on avg for the 19 o'clock period\n"
     ]
    }
   ],
   "source": [
    "print_res(ask_sorted, 10)"
   ]
  },
  {
   "cell_type": "markdown",
   "metadata": {},
   "source": [
    "##### Top 5 average points per hour for Show posts"
   ]
  },
  {
   "cell_type": "code",
   "execution_count": 85,
   "metadata": {
    "collapsed": false
   },
   "outputs": [
    {
     "name": "stdout",
     "output_type": "stream",
     "text": [
      "42.39 number of points on avg for the 23 o'clock period\n",
      "41.69 number of points on avg for the 12 o'clock period\n",
      "40.35 number of points on avg for the 22 o'clock period\n",
      "37.84 number of points on avg for the 00 o'clock period\n",
      "36.31 number of points on avg for the 18 o'clock period\n",
      "33.64 number of points on avg for the 11 o'clock period\n",
      "30.95 number of points on avg for the 19 o'clock period\n",
      "30.32 number of points on avg for the 20 o'clock period\n",
      "28.56 number of points on avg for the 15 o'clock period\n",
      "28.32 number of points on avg for the 16 o'clock period\n"
     ]
    }
   ],
   "source": [
    "print_res(show_sorted, 10)"
   ]
  },
  {
   "cell_type": "markdown",
   "metadata": {},
   "source": [
    "##### Top 5 average points per hour for Other posts"
   ]
  },
  {
   "cell_type": "code",
   "execution_count": 87,
   "metadata": {
    "collapsed": false
   },
   "outputs": [
    {
     "name": "stdout",
     "output_type": "stream",
     "text": [
      "62.53 number of points on avg for the 13 o'clock period\n",
      "61.79 number of points on avg for the 14 o'clock period\n",
      "60.54 number of points on avg for the 15 o'clock period\n",
      "60.48 number of points on avg for the 10 o'clock period\n",
      "60.01 number of points on avg for the 19 o'clock period\n",
      "58.47 number of points on avg for the 02 o'clock period\n",
      "58.46 number of points on avg for the 00 o'clock period\n",
      "57.98 number of points on avg for the 17 o'clock period\n",
      "57.57 number of points on avg for the 11 o'clock period\n",
      "57.40 number of points on avg for the 12 o'clock period\n"
     ]
    }
   ],
   "source": [
    "print_res(other_sorted, 10)"
   ]
  },
  {
   "cell_type": "markdown",
   "metadata": {},
   "source": [
    ">No discernible patterns. And rightly so - people's positive or negative assessments don't seem to depend on the time of day (or night for that matter)"
   ]
  }
 ],
 "metadata": {
  "kernelspec": {
   "display_name": "Python 3",
   "language": "python",
   "name": "python3"
  },
  "language_info": {
   "codemirror_mode": {
    "name": "ipython",
    "version": 3
   },
   "file_extension": ".py",
   "mimetype": "text/x-python",
   "name": "python",
   "nbconvert_exporter": "python",
   "pygments_lexer": "ipython3",
   "version": "3.4.3"
  }
 },
 "nbformat": 4,
 "nbformat_minor": 2
}
